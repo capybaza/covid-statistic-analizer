{
 "cells": [
  {
   "cell_type": "code",
   "execution_count": 4,
   "outputs": [],
   "source": [
    "import pandas as pd\n",
    "import matplotlib as mpl\n",
    "import matplotlib.pyplot as plt\n",
    "import numpy as np\n",
    "import seaborn as sns\n",
    "from plotly.subplots import make_subplots\n",
    "import plotly.express as px\n",
    "import plotly.graph_objects as go\n"
   ],
   "metadata": {
    "collapsed": false,
    "ExecuteTime": {
     "end_time": "2024-08-14T18:09:28.357303700Z",
     "start_time": "2024-08-14T18:09:28.249356400Z"
    }
   },
   "id": "f39c705116c90573"
  },
  {
   "cell_type": "code",
   "execution_count": 7,
   "outputs": [
    {
     "data": {
      "text/plain": "           SNo ObservationDate     Province/State  Country/Region  \\\n0            1      01/22/2020              Anhui  Mainland China   \n1            2      01/22/2020            Beijing  Mainland China   \n2            3      01/22/2020          Chongqing  Mainland China   \n3            4      01/22/2020             Fujian  Mainland China   \n4            5      01/22/2020              Gansu  Mainland China   \n...        ...             ...                ...             ...   \n306424  306425      05/29/2021  Zaporizhia Oblast         Ukraine   \n306425  306426      05/29/2021            Zeeland     Netherlands   \n306426  306427      05/29/2021           Zhejiang  Mainland China   \n306427  306428      05/29/2021    Zhytomyr Oblast         Ukraine   \n306428  306429      05/29/2021       Zuid-Holland     Netherlands   \n\n                Last Update  Confirmed  Deaths  Recovered  \n0           1/22/2020 17:00        1.0     0.0        0.0  \n1           1/22/2020 17:00       14.0     0.0        0.0  \n2           1/22/2020 17:00        6.0     0.0        0.0  \n3           1/22/2020 17:00        1.0     0.0        0.0  \n4           1/22/2020 17:00        0.0     0.0        0.0  \n...                     ...        ...     ...        ...  \n306424  2021-05-30 04:20:55   102641.0  2335.0    95289.0  \n306425  2021-05-30 04:20:55    29147.0   245.0        0.0  \n306426  2021-05-30 04:20:55     1364.0     1.0     1324.0  \n306427  2021-05-30 04:20:55    87550.0  1738.0    83790.0  \n306428  2021-05-30 04:20:55   391559.0  4252.0        0.0  \n\n[306429 rows x 8 columns]",
      "text/html": "<div>\n<style scoped>\n    .dataframe tbody tr th:only-of-type {\n        vertical-align: middle;\n    }\n\n    .dataframe tbody tr th {\n        vertical-align: top;\n    }\n\n    .dataframe thead th {\n        text-align: right;\n    }\n</style>\n<table border=\"1\" class=\"dataframe\">\n  <thead>\n    <tr style=\"text-align: right;\">\n      <th></th>\n      <th>SNo</th>\n      <th>ObservationDate</th>\n      <th>Province/State</th>\n      <th>Country/Region</th>\n      <th>Last Update</th>\n      <th>Confirmed</th>\n      <th>Deaths</th>\n      <th>Recovered</th>\n    </tr>\n  </thead>\n  <tbody>\n    <tr>\n      <th>0</th>\n      <td>1</td>\n      <td>01/22/2020</td>\n      <td>Anhui</td>\n      <td>Mainland China</td>\n      <td>1/22/2020 17:00</td>\n      <td>1.0</td>\n      <td>0.0</td>\n      <td>0.0</td>\n    </tr>\n    <tr>\n      <th>1</th>\n      <td>2</td>\n      <td>01/22/2020</td>\n      <td>Beijing</td>\n      <td>Mainland China</td>\n      <td>1/22/2020 17:00</td>\n      <td>14.0</td>\n      <td>0.0</td>\n      <td>0.0</td>\n    </tr>\n    <tr>\n      <th>2</th>\n      <td>3</td>\n      <td>01/22/2020</td>\n      <td>Chongqing</td>\n      <td>Mainland China</td>\n      <td>1/22/2020 17:00</td>\n      <td>6.0</td>\n      <td>0.0</td>\n      <td>0.0</td>\n    </tr>\n    <tr>\n      <th>3</th>\n      <td>4</td>\n      <td>01/22/2020</td>\n      <td>Fujian</td>\n      <td>Mainland China</td>\n      <td>1/22/2020 17:00</td>\n      <td>1.0</td>\n      <td>0.0</td>\n      <td>0.0</td>\n    </tr>\n    <tr>\n      <th>4</th>\n      <td>5</td>\n      <td>01/22/2020</td>\n      <td>Gansu</td>\n      <td>Mainland China</td>\n      <td>1/22/2020 17:00</td>\n      <td>0.0</td>\n      <td>0.0</td>\n      <td>0.0</td>\n    </tr>\n    <tr>\n      <th>...</th>\n      <td>...</td>\n      <td>...</td>\n      <td>...</td>\n      <td>...</td>\n      <td>...</td>\n      <td>...</td>\n      <td>...</td>\n      <td>...</td>\n    </tr>\n    <tr>\n      <th>306424</th>\n      <td>306425</td>\n      <td>05/29/2021</td>\n      <td>Zaporizhia Oblast</td>\n      <td>Ukraine</td>\n      <td>2021-05-30 04:20:55</td>\n      <td>102641.0</td>\n      <td>2335.0</td>\n      <td>95289.0</td>\n    </tr>\n    <tr>\n      <th>306425</th>\n      <td>306426</td>\n      <td>05/29/2021</td>\n      <td>Zeeland</td>\n      <td>Netherlands</td>\n      <td>2021-05-30 04:20:55</td>\n      <td>29147.0</td>\n      <td>245.0</td>\n      <td>0.0</td>\n    </tr>\n    <tr>\n      <th>306426</th>\n      <td>306427</td>\n      <td>05/29/2021</td>\n      <td>Zhejiang</td>\n      <td>Mainland China</td>\n      <td>2021-05-30 04:20:55</td>\n      <td>1364.0</td>\n      <td>1.0</td>\n      <td>1324.0</td>\n    </tr>\n    <tr>\n      <th>306427</th>\n      <td>306428</td>\n      <td>05/29/2021</td>\n      <td>Zhytomyr Oblast</td>\n      <td>Ukraine</td>\n      <td>2021-05-30 04:20:55</td>\n      <td>87550.0</td>\n      <td>1738.0</td>\n      <td>83790.0</td>\n    </tr>\n    <tr>\n      <th>306428</th>\n      <td>306429</td>\n      <td>05/29/2021</td>\n      <td>Zuid-Holland</td>\n      <td>Netherlands</td>\n      <td>2021-05-30 04:20:55</td>\n      <td>391559.0</td>\n      <td>4252.0</td>\n      <td>0.0</td>\n    </tr>\n  </tbody>\n</table>\n<p>306429 rows × 8 columns</p>\n</div>"
     },
     "execution_count": 7,
     "metadata": {},
     "output_type": "execute_result"
    }
   ],
   "source": [
    "df = pd.read_csv('../../db/raw/covid_19_data.csv')\n",
    "df"
   ],
   "metadata": {
    "collapsed": false,
    "ExecuteTime": {
     "end_time": "2024-08-14T18:12:07.544004100Z",
     "start_time": "2024-08-14T18:12:07.269742400Z"
    }
   },
   "id": "55558866934c945d"
  },
  {
   "cell_type": "code",
   "execution_count": null,
   "outputs": [],
   "source": [],
   "metadata": {
    "collapsed": false
   },
   "id": "b7234d2db05311f5"
  }
 ],
 "metadata": {
  "kernelspec": {
   "display_name": "Python 3",
   "language": "python",
   "name": "python3"
  },
  "language_info": {
   "codemirror_mode": {
    "name": "ipython",
    "version": 2
   },
   "file_extension": ".py",
   "mimetype": "text/x-python",
   "name": "python",
   "nbconvert_exporter": "python",
   "pygments_lexer": "ipython2",
   "version": "2.7.6"
  }
 },
 "nbformat": 4,
 "nbformat_minor": 5
}
